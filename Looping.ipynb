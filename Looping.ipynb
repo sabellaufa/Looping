{
 "cells": [
  {
   "cell_type": "code",
   "execution_count": 2,
   "id": "2d2bf368",
   "metadata": {},
   "outputs": [
    {
     "name": "stdout",
     "output_type": "stream",
     "text": [
      "1 2 3 4 5 6 7 8 9 10 "
     ]
    }
   ],
   "source": [
    "# mencetak angka 1 - 10\n",
    "\n",
    "for i in range(1,11):\n",
    "    print(i, end=\" \")"
   ]
  },
  {
   "cell_type": "code",
   "execution_count": 4,
   "id": "13694695",
   "metadata": {},
   "outputs": [
    {
     "name": "stdout",
     "output_type": "stream",
     "text": [
      "10 20 30 40 50 60 70 80 90 100 "
     ]
    }
   ],
   "source": [
    "#Mencetak angka 10 20 30 --- 100\n",
    "\n",
    "for i in range(1,11):\n",
    "    print(i * 10, end =\" \")"
   ]
  },
  {
   "cell_type": "code",
   "execution_count": 5,
   "id": "688a35be",
   "metadata": {},
   "outputs": [
    {
     "name": "stdout",
     "output_type": "stream",
     "text": [
      "10 20 30 40 50 60 70 80 90 100 "
     ]
    }
   ],
   "source": [
    "#Mencetak angka 10 20 30 --- 100\n",
    "for i in range(10,101,10):\n",
    "    print(i, end =\" \")"
   ]
  },
  {
   "cell_type": "code",
   "execution_count": 6,
   "id": "3f58821d",
   "metadata": {},
   "outputs": [
    {
     "name": "stdout",
     "output_type": "stream",
     "text": [
      "10 9 8 7 6 5 4 3 2 1 "
     ]
    }
   ],
   "source": [
    "#Mencetak angka 10 9 8 7 ... 1\n",
    "for i in range(1,11):\n",
    "    print(11 - i, end =\" \")"
   ]
  },
  {
   "cell_type": "code",
   "execution_count": 7,
   "id": "390f63da",
   "metadata": {},
   "outputs": [
    {
     "name": "stdout",
     "output_type": "stream",
     "text": [
      "10 9 8 7 6 5 4 3 2 1 "
     ]
    }
   ],
   "source": [
    "for i in range(10,0,-1):\n",
    "    print(i, end=\" \")"
   ]
  },
  {
   "cell_type": "code",
   "execution_count": 13,
   "id": "3bfc2ad5",
   "metadata": {},
   "outputs": [
    {
     "name": "stdout",
     "output_type": "stream",
     "text": [
      "1 -2 3 -4 5 -6 7 -8 9 -10 "
     ]
    }
   ],
   "source": [
    "#Mencetak angka 1 -2 3 -4 5 -6 ... 10\n",
    "sign = 1\n",
    "for i in range(1,11):\n",
    "    print(sign * i, end = \" \")\n",
    "    sign = sign * -1"
   ]
  },
  {
   "cell_type": "code",
   "execution_count": 21,
   "id": "526eac0c",
   "metadata": {},
   "outputs": [
    {
     "name": "stdout",
     "output_type": "stream",
     "text": [
      "Isikan bilangan:4\n",
      "4! adalah 24\n",
      " 4 * 3 * 2 * 1 = 24\n"
     ]
    }
   ],
   "source": [
    "#mencari bilangan faktorial\n",
    "#input = 3, output = 3 * 2 * 1 = 6\n",
    "#input = 4, output = 4 * 3 * 2 * 1 = 24\n",
    "\n",
    "bil = int(input('Isikan bilangan:'))\n",
    "\n",
    "hasil = 1\n",
    "label = \" \"                \n",
    "for i in range(1, bil+1):\n",
    "    hasil = hasil * i\n",
    "    if i < bil:\n",
    "        label = label + str((bil+1) - i) + \" * \"\n",
    "    else:\n",
    "        label = label + str((bil+1) - i)\n",
    "\n",
    "print(f\"{bil}! adalah {hasil}\")\n",
    "print(f\"{label} = {hasil}\")"
   ]
  },
  {
   "cell_type": "code",
   "execution_count": 24,
   "id": "14537e87",
   "metadata": {},
   "outputs": [
    {
     "name": "stdout",
     "output_type": "stream",
     "text": [
      "Isikan bilangan : 5\n",
      "Isikan pangkat :2\n",
      "5 pangkat 2 adalah 25\n"
     ]
    }
   ],
   "source": [
    "#menghitung pangkat\n",
    "\n",
    "bil = int(input(\"Isikan bilangan : \"))\n",
    "pangkat = int(input(\"Isikan pangkat :\"))\n",
    "hasil = 1\n",
    "for i in range(1, pangkat+1):\n",
    "    hasil *= bil\n",
    "    \n",
    "print(f\"{bil} pangkat {pangkat} adalah {hasil}\")"
   ]
  },
  {
   "cell_type": "code",
   "execution_count": 31,
   "id": "fa77799b",
   "metadata": {},
   "outputs": [
    {
     "name": "stdout",
     "output_type": "stream",
     "text": [
      "isikan Bilangan:2\n",
      "2 adalah bilangan PRIMA\n"
     ]
    }
   ],
   "source": [
    "#Mengecek bilangan prima atau bukan\n",
    "#Bil. prima adalah bilangan yang\n",
    "#hanya habis dibagi dengan 1 dan bilangan itu sendiri => 2 faktor\n",
    "bil = int(input(\"isikan Bilangan:\"))\n",
    "jumlah = 0\n",
    "for i in range(1, bil + 1):\n",
    "    sisa = bil % i\n",
    "    if sisa == 0:\n",
    "        jumlah = jumlah + 1\n",
    "if jumlah == 2:\n",
    "   print(f\"{bil} adalah bilangan PRIMA\")\n",
    "else:\n",
    "    print(f\"{bil} adalah bukan bilangan PRIMA\")"
   ]
  },
  {
   "cell_type": "code",
   "execution_count": 32,
   "id": "33d2db63",
   "metadata": {},
   "outputs": [
    {
     "name": "stdout",
     "output_type": "stream",
     "text": [
      "isikan Bilangan:4\n",
      "4 adalah Bukan Bilangan PRIMA\n"
     ]
    }
   ],
   "source": [
    "#Mengecek bilangan prima atau bukan\n",
    "#Bil. prima adalah bilangan yang\n",
    "#hanya habis dibagi dengan 1 dan bilangan itu sendiri => 2 faktor\n",
    "bil = int(input(\"isikan Bilangan:\"))\n",
    "keterangan = \"Bilangan prima\"\n",
    "\n",
    "for i in range(1, bil + 1):\n",
    "    sisa = bil % i\n",
    "    if sisa == 0:\n",
    "        keterangan = \"Bukan Bilangan PRIMA\"\n",
    "        break\n",
    "        \n",
    "print(f\"{bil} adalah {keterangan}\")\n"
   ]
  },
  {
   "cell_type": "code",
   "execution_count": 33,
   "id": "391c9839",
   "metadata": {},
   "outputs": [
    {
     "name": "stdout",
     "output_type": "stream",
     "text": [
      "1 2 3 4 5 \n",
      "1 2 3 4 6 7 8 9 "
     ]
    }
   ],
   "source": [
    "#Break dan continue\n",
    "\n",
    "for i in range(1,100):\n",
    "    print(i, end = \" \")\n",
    "    if i==5:\n",
    "        break \n",
    "print()\n",
    "\n",
    "for j in range(1,10):\n",
    "    if j == 5:\n",
    "        continue\n",
    "    print(j, end = \" \")"
   ]
  },
  {
   "cell_type": "code",
   "execution_count": 6,
   "id": "df288dd3",
   "metadata": {},
   "outputs": [
    {
     "name": "stdout",
     "output_type": "stream",
     "text": [
      "Isikan kalimat:alya belajar pemrogaman \n",
      "jumlah huruf a:6\n",
      "jumlah huruf i:0\n",
      "jumlah huruf u:0\n",
      "jumlah huruf e:2\n",
      "jumlah huruf o:1\n",
      "jumlah total huruf vokal: 9\n"
     ]
    }
   ],
   "source": [
    "#Looping untuk string, menghitung huruf vokal a=?, i=?, u=?, e=?, o=? \n",
    "kalimat = input(\"Isikan kalimat:\")\n",
    "vokal_a = 0\n",
    "vokal_i = 0\n",
    "vokal_u = 0\n",
    "vokal_e = 0\n",
    "vokal_o = 0\n",
    "for i in kalimat:\n",
    "    if i =='a':\n",
    "        vokal_a += 1\n",
    "    elif i=='i':\n",
    "        vokal_i +=1\n",
    "    elif i=='u':\n",
    "        vokal_u +=1\n",
    "    elif i=='e':\n",
    "        vokal_e +=1\n",
    "    elif i=='o':\n",
    "        vokal_o +=1\n",
    "    \n",
    "print(f\"jumlah huruf a:{vokal_a}\")\n",
    "print(f\"jumlah huruf i:{vokal_i}\")\n",
    "print(f\"jumlah huruf u:{vokal_u}\")\n",
    "print(f\"jumlah huruf e:{vokal_e}\")\n",
    "print(f\"jumlah huruf o:{vokal_o}\")\n",
    "total = vokal_a + vokal_i + vokal_u + vokal_e + vokal_o\n",
    "print(f\"jumlah total huruf vokal: {total}\")\n"
   ]
  },
  {
   "cell_type": "code",
   "execution_count": 1,
   "id": "2898eff7",
   "metadata": {},
   "outputs": [
    {
     "name": "stdout",
     "output_type": "stream",
     "text": [
      "isikan kalimat:kakak\n",
      "PALINDROME\n",
      "apakah mau mengulang program(Y/T)?:T\n"
     ]
    }
   ],
   "source": [
    "#Kalimat polindrome atau bukan\n",
    "#polindrome adalah kalimat yang dibaca dari kiri ke kanan == kiri ke kanan\n",
    "#katak => polindrome\n",
    "#kasur rusak => polindrome\n",
    "ulang = \"Y\"\n",
    "while(ulang==\"Y\"):\n",
    "    kalimat = input('isikan kalimat:')\n",
    "    panjang = len(kalimat)\n",
    "    keterangan = \"PALINDROME\"\n",
    "    \n",
    "    for i in range(0,panjang):\n",
    "        kika = kalimat[i].lower()\n",
    "        kaki = kalimat[panjang - i-1].lower()\n",
    "        if kika != kaki:\n",
    "            keterangan = \"BUKAN PALINDROME\"\n",
    "            break\n",
    "    print(f\"{keterangan}\")\n",
    "        \n",
    "    jawab =\"\"\n",
    "    while(jawab!=\"Y\" and jawab !=\"T\"):\n",
    "        jawab = input(\"apakah mau mengulang program(Y/T)?:\")\n",
    "    ulang = jawab "
   ]
  },
  {
   "cell_type": "code",
   "execution_count": null,
   "id": "ca6d7775",
   "metadata": {},
   "outputs": [],
   "source": [
    "#NEsted FOR\n",
    "\n",
    "for i in range(1,5):\n",
    "    for j in range(1,5):\n",
    "        print(f\"i\")"
   ]
  }
 ],
 "metadata": {
  "kernelspec": {
   "display_name": "Python 3 (ipykernel)",
   "language": "python",
   "name": "python3"
  },
  "language_info": {
   "codemirror_mode": {
    "name": "ipython",
    "version": 3
   },
   "file_extension": ".py",
   "mimetype": "text/x-python",
   "name": "python",
   "nbconvert_exporter": "python",
   "pygments_lexer": "ipython3",
   "version": "3.9.12"
  }
 },
 "nbformat": 4,
 "nbformat_minor": 5
}
